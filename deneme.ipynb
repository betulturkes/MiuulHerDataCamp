{
 "cells": [
  {
   "cell_type": "code",
   "execution_count": 1,
   "metadata": {},
   "outputs": [
    {
     "data": {
      "text/plain": [
       "set"
      ]
     },
     "execution_count": 1,
     "metadata": {},
     "output_type": "execute_result"
    }
   ],
   "source": [
    "#veri yapıları inceleme\n",
    "x = 8\n",
    "type(x)\n",
    "y=3.2\n",
    "type(y)\n",
    "z=8j+18\n",
    "type(z)\n",
    "a=\"Hello World\"\n",
    "type(a)\n",
    "b=True\n",
    "type(b)\n",
    "c=23<22\n",
    "type(c)\n",
    "l=[1,2,3,4]\n",
    "type(l)\n",
    "d={\"Name\":\"Jake\",\n",
    "    \"Age\":27,\n",
    "    \"Address\":\"Downtown\"\n",
    "}\n",
    "type(d)\n",
    "t=(\"Machine Learning\",\"Data Science\")\n",
    "type(t)\n",
    "s={\"Python\",\"Machine Learning\",\"Data Science\"}\n",
    "type(s)"
   ]
  },
  {
   "cell_type": "code",
   "execution_count": 2,
   "metadata": {},
   "outputs": [
    {
     "name": "stdout",
     "output_type": "stream",
     "text": [
      "['THE', 'GOAL', 'IS', 'TO', 'TURN', 'DATA', 'INTO', 'INFORMATION', 'AND', 'INFORMATION', 'INTO', 'INSIGHT']\n"
     ]
    }
   ],
   "source": [
    "#Verilen string ifadenin tüm harflerini büyük harfe çeviriniz. Virgül ve nokta yerine space koyunuz, kelime kelime ayırınız.\n",
    "text = \"The goal is to turn data into information, and information into insight.\"\n",
    "\n",
    "def transform(string):\n",
    "    new_text = \"\"\n",
    "    for i in string:\n",
    "        if i == \",\" or i==\".\":\n",
    "            new_text += \" \"\n",
    "        else:\n",
    "            new_text += i.upper()\n",
    "        words  = new_text.split()\n",
    "    return words\n",
    "\n",
    "print(transform(text))\n"
   ]
  },
  {
   "cell_type": "code",
   "execution_count": 3,
   "metadata": {},
   "outputs": [],
   "source": [
    "#adımları uygulayın\n",
    "lst = [\"D\",\"A\",\"T\",\"A\",\"S\",\"C\",\"I\",\"E\",\"N\",\"C\",\"E\"]\n",
    "#eleman sayısına bakma\n",
    "num_of_elements = len(lst)\n",
    "#ilk ve son elemanları çağırma\n",
    "first_element = lst[0]\n",
    "last_element = lst[-1]\n",
    "#liste üzerinden ['D','A','T','A'] listesi oluşturma\n",
    "def data_list_create(list):\n",
    "    data_list = []\n",
    "    for i in list:\n",
    "        if i == \"D\" or i == \"A\" or i == \"T\" or i == \"A\":\n",
    "            data_list.append(i)\n",
    "    return data_list\n",
    "#8. index elemanını silme\n",
    "lst.remove(lst[8])\n",
    "#yeni eleman ekleme\n",
    "lst.append(\"B\")\n",
    "#silinen elemanı tekrar ekleme\n",
    "lst.insert(8,\"N\")\n",
    "\n"
   ]
  },
  {
   "cell_type": "code",
   "execution_count": 4,
   "metadata": {},
   "outputs": [],
   "source": [
    "#dictionary kullanımı\n",
    "dict = {\"Christian\": [\"America\",18],\n",
    "        \"Daisy\": [\"England\",12],\n",
    "        \"Antonio\": [\"Spain\",22],\n",
    "        \"Dante\": [\"Italy\",25]        \n",
    "        }\n",
    "#key değerlerini yazdır\n",
    "key_deger = dict.keys()\n",
    "#value değerlerini yazdır\n",
    "value_deger = dict.values()\n",
    "\n",
    "#value değeri güncelle\n",
    "dict[\"Daisy\"] = [\"England\",13]\n",
    "#yeni key-value ekle\n",
    "dict[\"Ahmet\"] = [\"Turkey\",24]\n",
    "#element sil\n",
    "del dict[\"Antonio\"]\n",
    "\n"
   ]
  },
  {
   "cell_type": "code",
   "execution_count": 5,
   "metadata": {},
   "outputs": [
    {
     "name": "stdout",
     "output_type": "stream",
     "text": [
      "([13, 93], [2, 18, 22])\n"
     ]
    }
   ],
   "source": [
    "#Argüman olarak bir liste alan, listenin içerisindeki tek ve çift sayıları ayrı listelere atayan ve bu listeleri return eden fonksiyon yazınız.\n",
    "\n",
    "def tek_cift_ayir(list):\n",
    "    tek_list = []\n",
    "    cift_list = []\n",
    "    for i in list: \n",
    "        if i % 2 == 1 : \n",
    "            tek_list.append(i)\n",
    "        else:\n",
    "            cift_list.append(i)\n",
    "    return(tek_list,cift_list)\n",
    "\n",
    "l = [2,13,18,93,22]\n",
    "print(tek_cift_ayir(l))\n",
    "\n",
    "\n",
    "\n",
    "\n"
   ]
  },
  {
   "cell_type": "code",
   "execution_count": 6,
   "metadata": {},
   "outputs": [
    {
     "name": "stdout",
     "output_type": "stream",
     "text": [
      "Mühendislik Fakültesi 1 . öğrenci:  Ali\n",
      "Mühendislik Fakültesi 2 . öğrenci:  Veli\n",
      "Mühendislik Fakültesi 3 . öğrenci:  Ayşe\n",
      "Tıp Fakültesi 4 . öğrenci:  Talat\n",
      "Tıp Fakültesi 5 . öğrenci:  Zeynep\n",
      "Tıp Fakültesi 6 . öğrenci:  Ece\n"
     ]
    }
   ],
   "source": [
    "#Aşağıda verilen listede mühendislik ve tıp fakülterinde dereceye giren öğrencilerin isimleri bulunmaktadır. Sırasıyla ilk üç öğrenci mühendislik fakültesinin başarı sırasını temsil ederken son üç öğrenci de  tıp fakültesi öğrenci sırasına aittir. Enumarate kullanarak öğrenci derecelerini fakülte özelinde yazdırınız\n",
    "\n",
    "ogrenciler = [\"Ali\",\"Veli\",\"Ayşe\",\"Talat\",\"Zeynep\",\"Ece\"]\n",
    "\n",
    "for i, deger in enumerate(ogrenciler,start=1) : \n",
    "    if i>3 :\n",
    "        print(\"Tıp Fakültesi\", i, \". öğrenci: \", deger)\n",
    "    else:\n",
    "        print(\"Mühendislik Fakültesi\", i, \". öğrenci: \", deger)"
   ]
  },
  {
   "cell_type": "code",
   "execution_count": 7,
   "metadata": {},
   "outputs": [
    {
     "name": "stdout",
     "output_type": "stream",
     "text": [
      "Kredisi 3 olan CMP1005 kodlu dersin kontenjanı 30 kişidir.\n",
      "Kredisi 4 olan PSY1001 kodlu dersin kontenjanı 75 kişidir.\n",
      "Kredisi 2 olan HUK1005 kodlu dersin kontenjanı 150 kişidir.\n",
      "Kredisi 4 olan SEN2204 kodlu dersin kontenjanı 25 kişidir.\n"
     ]
    }
   ],
   "source": [
    "#Listelerde sırası ile bir dersin kodu, kredisi ve kontenjan bilgileri yer almaktadır. Zip kullanarak ders bilgilerini bastırınız.\n",
    "\n",
    "ders_kodu = [\"CMP1005\",\"PSY1001\",\"HUK1005\",\"SEN2204\"]\n",
    "kredi = [3,4,2,4]\n",
    "kontenjan = [30,75,150,25]\n",
    "\n",
    "for i1,j1,k1 in zip(ders_kodu,kredi,kontenjan):\n",
    "    print(\"Kredisi \" + str(j1) + \" olan \" + i1 + \" kodlu dersin kontenjanı \" + str(k1) + \" kişidir.\")\n"
   ]
  },
  {
   "cell_type": "code",
   "execution_count": 8,
   "metadata": {},
   "outputs": [
    {
     "name": "stdout",
     "output_type": "stream",
     "text": [
      "{'miuul', 'lambda', 'function', 'qcut'}\n"
     ]
    }
   ],
   "source": [
    "# Aşağıda 2 adet set verilmiştir. Sizden istenilen eğer 1. küme 2. kümeyi kapsiyor ise ortak elemanlarını eğer kapsamıyor ise 2. kümenin 1. kümeden farkını yazdıracak fonksiyonu tanımlamanız beklenmektedir.\n",
    "\n",
    "kume1 = set([\"data\",\"python\"])\n",
    "kume2 = set([\"data\",\"function\",\"qcut\",\"lambda\", \"python\",\"miuul\"])\n",
    "\n",
    "if kume1.issuperset(kume2):\n",
    "    kesisim = kume2.intersection(kume1) \n",
    "    print(kesisim)\n",
    "else: \n",
    "    fark = kume2.difference(kume1) \n",
    "    print(fark)\n",
    "\n",
    "\n",
    "\n"
   ]
  },
  {
   "cell_type": "code",
   "execution_count": null,
   "metadata": {},
   "outputs": [],
   "source": []
  },
  {
   "cell_type": "code",
   "execution_count": null,
   "metadata": {},
   "outputs": [],
   "source": []
  },
  {
   "cell_type": "code",
   "execution_count": null,
   "metadata": {},
   "outputs": [],
   "source": []
  },
  {
   "cell_type": "code",
   "execution_count": null,
   "metadata": {},
   "outputs": [],
   "source": []
  },
  {
   "cell_type": "code",
   "execution_count": null,
   "metadata": {},
   "outputs": [],
   "source": []
  }
 ],
 "metadata": {
  "kernelspec": {
   "display_name": "Python 3",
   "language": "python",
   "name": "python3"
  },
  "language_info": {
   "codemirror_mode": {
    "name": "ipython",
    "version": 3
   },
   "file_extension": ".py",
   "mimetype": "text/x-python",
   "name": "python",
   "nbconvert_exporter": "python",
   "pygments_lexer": "ipython3",
   "version": "3.12.0"
  }
 },
 "nbformat": 4,
 "nbformat_minor": 2
}
